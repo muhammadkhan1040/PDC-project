{
 "cells": [
  {
   "cell_type": "markdown",
   "id": "1b7aa469",
   "metadata": {},
   "source": [
    "# Quantum Fourier Transform (QFT) Tensor Network Analysis\n",
    "\n",
    "This notebook demonstrates the creation, sequential contraction, and parallel contraction of a QFT tensor network using various algorithms such as Girvan–Newman and FlowCutter.\n",
    "\n",
    "---\n",
    "\n"
   ]
  },
  {
   "cell_type": "markdown",
   "id": "1c2a6516-120c-4af4-aadd-74eec24fb04e",
   "metadata": {},
   "source": [
    "## Step 0: Loading software"
   ]
  },
  {
   "cell_type": "markdown",
   "id": "b48b1121-2e64-4a5f-acd1-cc63acc64bad",
   "metadata": {
    "tags": []
   },
   "source": [
    " First of all, we create a new project to load all the neccesary software"
   ]
  },
  {
   "cell_type": "code",
   "execution_count": 1,
   "id": "c9139643-61d6-4fda-97cc-2d437f117eec",
   "metadata": {
    "tags": []
   },
   "outputs": [
    {
     "name": "stderr",
     "output_type": "stream",
     "text": [
      "\u001b[32m\u001b[1m  Activating\u001b[22m\u001b[39m project at `C:\\Users\\Usuario\\OneDrive\\Escriptori\\anaconda_blogs\\agost_2023\\Novembre_desembre_2024\\GitHub_resum_article_Costa_Ballena\\New_Project_on_QXTools`\n"
     ]
    }
   ],
   "source": [
    "] activate New_Project_on_QXTools;"
   ]
  },
  {
   "cell_type": "code",
   "execution_count": null,
   "id": "11de2394",
   "metadata": {
    "collapsed": true,
    "jupyter": {
     "outputs_hidden": true,
     "source_hidden": true
    },
    "tags": []
   },
   "outputs": [
    {
     "name": "stderr",
     "output_type": "stream",
     "text": [
      "\u001b[32m\u001b[1m    Updating\u001b[22m\u001b[39m registry at `C:\\Users\\Usuario\\.julia\\registries\\General.toml`\n",
      "\u001b[32m\u001b[1m   Resolving\u001b[22m\u001b[39m package versions...\n",
      "\u001b[32m\u001b[1m  No Changes\u001b[22m\u001b[39m to `C:\\Users\\Usuario\\OneDrive\\Escriptori\\anaconda_blogs\\agost_2023\\Novembre_desembre_2024\\GitHub_resum_article_Costa_Ballena\\New_Project_on_QXTools\\Project.toml`\n",
      "\u001b[32m\u001b[1m  No Changes\u001b[22m\u001b[39m to `C:\\Users\\Usuario\\OneDrive\\Escriptori\\anaconda_blogs\\agost_2023\\Novembre_desembre_2024\\GitHub_resum_article_Costa_Ballena\\New_Project_on_QXTools\\Manifest.toml`\n"
     ]
    }
   ],
   "source": [
    "import Pkg; \n",
    "Pkg.add(\"QXTools\")\n",
    "Pkg.add(\"QXGraphDecompositions\")\n",
    "Pkg.add(\"QXZoo\")\n",
    "Pkg.add(\"DataStructures\")\n",
    "Pkg.add(\"QXTns\")\n",
    "Pkg.add(\"NDTensors\")\n",
    "Pkg.add(\"ITensors\")\n",
    "Pkg.add(\"LightGraphs\")\n",
    "Pkg.add(\"PyCall\")\n",
    "\n",
    "\n"
   ]
  },
  {
   "cell_type": "code",
   "execution_count": 2,
   "id": "9dd7f933-304e-465b-a810-e5d092e8a197",
   "metadata": {
    "tags": []
   },
   "outputs": [
    {
     "name": "stderr",
     "output_type": "stream",
     "text": [
      "WARNING: method definition for asarray at C:\\Users\\Usuario\\.julia\\packages\\OMEinsum\\0C2IK\\src\\cueinsum.jl:8 declares type variable T but does not use it.\n",
      "WARNING: method definition for expanddims! at C:\\Users\\Usuario\\.julia\\packages\\OMEinsum\\0C2IK\\src\\cueinsum.jl:67 declares type variable LT but does not use it.\n",
      "\u001b[36m\u001b[1m[ \u001b[22m\u001b[39m\u001b[36m\u001b[1mInfo: \u001b[22m\u001b[39mOMEinsum loaded the CUDA module successfully\n"
     ]
    }
   ],
   "source": [
    "using QXTools\n",
    "using QXTns\n",
    "using QXZoo\n",
    "using PyCall\n",
    "using QXGraphDecompositions\n",
    "using LightGraphs\n",
    "using DataStructures\n",
    "using TimerOutputs\n",
    "using ITensors\n",
    "using LinearAlgebra\n",
    "using NDTensors\n"
   ]
  },
  {
   "cell_type": "code",
   "execution_count": 3,
   "id": "ce4a84e9-c95e-41b6-a1fb-1c7ac55fa224",
   "metadata": {
    "tags": []
   },
   "outputs": [],
   "source": [
    "# Load custom functions\n",
    "include(\"../src/funcions_article.jl\");"
   ]
  },
  {
   "cell_type": "markdown",
   "id": "079a721e-af4f-4905-81d8-81b4932352fc",
   "metadata": {},
   "source": [
    "## Step 1: Create a Quantum Fourier Transform Circuit\n",
    "We begin by creating a QFT circuit based on the user-defined number of qubits."
   ]
  },
  {
   "cell_type": "code",
   "execution_count": 4,
   "id": "97980321",
   "metadata": {
    "tags": []
   },
   "outputs": [
    {
     "name": "stderr",
     "output_type": "stream",
     "text": [
      "\u001b[36m\u001b[1m[ \u001b[22m\u001b[39m\u001b[36m\u001b[1mInfo: \u001b[22m\u001b[39mHow many qubits do you want for the QFT circuit?\n"
     ]
    },
    {
     "name": "stdin",
     "output_type": "stream",
     "text": [
      "stdin>  20\n"
     ]
    },
    {
     "name": "stdout",
     "output_type": "stream",
     "text": [
      "The QFT circuit created has 20 qubits.\n"
     ]
    },
    {
     "data": {
      "text/plain": [
       "TensorNetworkCircuit(qubits => 20, gates => 464)"
      ]
     },
     "execution_count": 4,
     "metadata": {},
     "output_type": "execute_result"
    }
   ],
   "source": [
    "# --- Step 1: Quantum Fourier Transform (QFT) Circuit Creation ---\n",
    "@info \"How many qubits do you want for the QFT circuit?\"\n",
    "n = parse(Int64, readline())\n",
    "println(\"The QFT circuit created has $n qubits.\")\n",
    "\n",
    "# Create QFT circuit\n",
    "cct = create_qft_circuit_bis(n)\n",
    "\n",
    "tnc = convert_to_tnc(cct)  # Convert the QFT circuit into a tensor network circuit\n"
   ]
  },
  {
   "cell_type": "markdown",
   "id": "2f5bd173",
   "metadata": {},
   "source": [
    "---\n",
    "\n",
    "## Step 2: Sequential Contraction Using Girvan-Newman\n",
    "We perform sequential contraction of the tensor network using the Girvan–Newman algorithm to get a contraction order."
   ]
  },
  {
   "cell_type": "code",
   "execution_count": 5,
   "id": "66bb4f77",
   "metadata": {
    "tags": []
   },
   "outputs": [
    {
     "name": "stdout",
     "output_type": "stream",
     "text": [
      "\u001b[0m\u001b[1m────────────────────────────────────────────────────────────────────────────────\u001b[22m\n",
      "\u001b[0m\u001b[1m                              \u001b[22m         Time                    Allocations      \n",
      "                              ───────────────────────   ────────────────────────\n",
      "      Tot / % measured:            42.1s /  98.8%           2.33GiB /  99.2%    \n",
      "\n",
      "Section               ncalls     time    %tot     avg     alloc    %tot      avg\n",
      "────────────────────────────────────────────────────────────────────────────────\n",
      "3T. Final contraction      1    39.2s   94.3%   39.2s   2.27GiB   98.0%  2.27GiB\n",
      "2T. Getting GN plan        1    2.00s    4.8%   2.00s   31.1MiB    1.3%  31.1MiB\n",
      "1T. Obtaining a li...      1    357ms    0.9%   357ms   15.1MiB    0.6%  15.1MiB\n",
      "\u001b[0m\u001b[1m────────────────────────────────────────────────────────────────────────────────\u001b[22m\n",
      "Sequential contraction result: fill(0.0009765624999999416 + 6.596081874690899e-19im)\n"
     ]
    }
   ],
   "source": [
    "# --- Step 2: Sequential Contraction using Girvan-Newman ---\n",
    "s1 = Calcul_GN_Sequencial(cct, true)  # Perform sequential contraction\n",
    "println(\"Sequential contraction result: \", s1)"
   ]
  },
  {
   "cell_type": "markdown",
   "id": "c3c3ebec",
   "metadata": {},
   "source": [
    "---\n",
    "\n",
    "## Step 3: Compare Results Using Another Contraction Plan\n",
    "Here, we utilize FlowCutter to generate an alternative contraction plan and compare results."
   ]
  },
  {
   "cell_type": "code",
   "execution_count": 6,
   "id": "18de83c4",
   "metadata": {
    "tags": []
   },
   "outputs": [
    {
     "name": "stdout",
     "output_type": "stream",
     "text": [
      "QXTools.single_amplitude(tnc, plan, eixida) = 0.0009765624999999408 + 1.2304869958639009e-18im\n",
      "QXTools.single_amplitude(tnc, plan, eixida) = 0.0009765624999998817 + 1.0968001332144409e-20im\n",
      "QXTools.single_amplitude(tnc, plan, eixida) = 0.0009765624999998878 + 9.279477547741198e-20im\n",
      "Contraction result using FlowCutter plan: fill(0.0009765624999999408 + 1.2304869958639009e-18im)\n",
      "Do the results match? true\n"
     ]
    }
   ],
   "source": [
    "# --- Step 3: Compare with Another Plan ---\n",
    "using QXTools\n",
    "using QXTools.Circuits\n",
    "\n",
    "# Convert the QFT circuit into a tensor network circuit\n",
    "tnc = convert_to_tnc(cct)  \n",
    "\n",
    "# Find a good contraction plan using FlowCutter\n",
    "plan = flow_cutter_contraction_plan(tnc; time=10)\n",
    "\n",
    "num_qubits = cct.num_qubits\n",
    "\n",
    "# Output states\n",
    "outputs = [\"0\" ^ num_qubits, \"1\" ^ num_qubits, \"1\" ^ (num_qubits - 2) * \"01\"]\n",
    "eixida = outputs[1]  # Select the first output as the target\n",
    "\n",
    "# Evaluate the probability amplitude for different outputs\n",
    "\n",
    "@show QXTools.single_amplitude(tnc, plan, eixida)\n",
    "eixida = outputs[2]  # Select the second output\n",
    "@show QXTools.single_amplitude(tnc, plan, eixida)\n",
    "eixida = outputs[3]  # Select the third output\n",
    "@show QXTools.single_amplitude(tnc, plan, eixida)\n",
    "\n",
    "# Perform tensor network contraction using the plan\n",
    "s = contract_tn!(tnc.tn, plan)\n",
    "println(\"Contraction result using FlowCutter plan: \", s)\n",
    "\n",
    "# Compare results\n",
    "println(\"Do the results match? \", s1 ≈ s)"
   ]
  },
  {
   "cell_type": "markdown",
   "id": "36777726",
   "metadata": {},
   "source": [
    "---\n",
    "\n",
    "## Step 4: Parallel Contraction Using ComPar\n",
    "Finally, we use ComPar algorithms for parallel contraction."
   ]
  },
  {
   "cell_type": "code",
   "execution_count": 7,
   "id": "151df3f2",
   "metadata": {
    "tags": []
   },
   "outputs": [
    {
     "name": "stdout",
     "output_type": "stream",
     "text": [
      "Using 8 communities for contraction.\n"
     ]
    }
   ],
   "source": [
    "# --- Step 4: Parallel Contraction using ComPar ---\n",
    "# Define input and output states\n",
    "num_qubits = cct.num_qubits\n",
    "entrada = \"0\" ^ num_qubits\n",
    "\n",
    "# Output states\n",
    "outputs = [\"0\" ^ num_qubits, \"1\" ^ num_qubits, \"1\" ^ (num_qubits - 2) * \"01\"]\n",
    "eixida = outputs[1]  # Select the first output as the target\n",
    "\n",
    "n_com = 8  # Number of communities for the contraction\n",
    "println(\"Using $n_com communities for contraction.\")\n",
    "\n"
   ]
  },
  {
   "cell_type": "code",
   "execution_count": 8,
   "id": "8b62f947-5cd9-4789-a8ff-c3323cea3256",
   "metadata": {
    "tags": []
   },
   "outputs": [
    {
     "name": "stdout",
     "output_type": "stream",
     "text": [
      "\u001b[0m\u001b[1m────────────────────────────────────────────────────────────────────────────────\u001b[22m\n",
      "\u001b[0m\u001b[1m                              \u001b[22m         Time                    Allocations      \n",
      "                              ───────────────────────   ────────────────────────\n",
      "      Tot / % measured:            6.61s / 100.0%            500MiB / 100.0%    \n",
      "\n",
      "Section               ncalls     time    %tot     avg     alloc    %tot      avg\n",
      "────────────────────────────────────────────────────────────────────────────────\n",
      "3T.Final Contraction       1    3.94s   59.5%   3.94s    290MiB   57.9%   290MiB\n",
      "1T.Obtaining Commu...      1    1.42s   21.5%   1.42s   24.9MiB    5.0%  24.9MiB\n",
      "2T.Parallel contra...      1    1.26s   19.0%   1.26s    185MiB   37.1%   185MiB\n",
      "\u001b[0m\u001b[1m────────────────────────────────────────────────────────────────────────────────\u001b[22m\n",
      "Contraction result using ComParCPU: fill(0.0009765624999999408 + 1.2304869958639009e-18im)\n"
     ]
    }
   ],
   "source": [
    "# Perform contraction using ComParCPU\n",
    "s2 = ComParCPU(cct, entrada, eixida, n_com; timings=true, decompose=true)\n",
    "println(\"Contraction result using ComParCPU: \", s)"
   ]
  },
  {
   "cell_type": "code",
   "execution_count": 10,
   "id": "d0402d5c-e673-4d80-b121-a5379fdf7dc6",
   "metadata": {
    "tags": []
   },
   "outputs": [
    {
     "name": "stdout",
     "output_type": "stream",
     "text": [
      "\u001b[0m\u001b[1m────────────────────────────────────────────────────────────────────────────────\u001b[22m\n",
      "\u001b[0m\u001b[1m                              \u001b[22m         Time                    Allocations      \n",
      "                              ───────────────────────   ────────────────────────\n",
      "      Tot / % measured:            1.74s / 100.0%            332MiB / 100.0%    \n",
      "\n",
      "Section               ncalls     time    %tot     avg     alloc    %tot      avg\n",
      "────────────────────────────────────────────────────────────────────────────────\n",
      "1T.Obtaining Commu...      1    808ms   46.5%   808ms   7.73MiB    2.3%  7.73MiB\n",
      "2T.Parallel contra...      1    593ms   34.1%   593ms    170MiB   51.2%   170MiB\n",
      "3T.Final contracti...      1    336ms   19.3%   336ms    154MiB   46.5%   154MiB\n",
      "\u001b[0m\u001b[1m────────────────────────────────────────────────────────────────────────────────\u001b[22m\n",
      "Contraction result using ComParCPU_para: fill(0.0009765624999999416 + 6.596081874690899e-19im)\n"
     ]
    }
   ],
   "source": [
    "# Perform contraction using ComParCPU_para\n",
    "s_para = ComParCPU_para(cct, entrada, eixida, n_com; timings=true, decompose=true)\n",
    "println(\"Contraction result using ComParCPU_para: \", s_para)"
   ]
  },
  {
   "cell_type": "code",
   "execution_count": 11,
   "id": "b23df227-3741-48d8-9023-a641482544cc",
   "metadata": {
    "tags": []
   },
   "outputs": [
    {
     "name": "stdout",
     "output_type": "stream",
     "text": [
      "Do all the results match? true\n"
     ]
    }
   ],
   "source": [
    "# Compare results\n",
    "println(\"Do all the results match? \", s1 ≈ s≈ s2 ≈ s_para)"
   ]
  },
  {
   "cell_type": "markdown",
   "id": "87553cee",
   "metadata": {},
   "source": [
    "---\n",
    "\n",
    "### Summary\n",
    "This notebook demonstrated:\n",
    "1. The creation of a QFT tensor network.\n",
    "2. Sequential contraction using the Girvan–Newman algorithm.\n",
    "3. Alternative contraction using FlowCutter.\n",
    "4. Parallel contraction with ComParCPU and ComParCPU_para.\n",
    "\n",
    "Thank you for exploring tensor network contraction with us!"
   ]
  }
 ],
 "metadata": {
  "kernelspec": {
   "display_name": "Julia 12 Threads 1.9.2",
   "language": "julia",
   "name": "julia-12-threads-1.9"
  },
  "language_info": {
   "file_extension": ".jl",
   "mimetype": "application/julia",
   "name": "julia",
   "version": "1.9.2"
  }
 },
 "nbformat": 4,
 "nbformat_minor": 5
}
