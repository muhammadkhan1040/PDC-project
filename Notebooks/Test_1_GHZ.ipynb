{
 "cells": [
  {
   "cell_type": "markdown",
   "id": "1b7aa469",
   "metadata": {},
   "source": [
    "# GHZ Circuits. Tensor Network Analysis\n",
    "\n",
    "This notebook demonstrates the creation, sequential contraction, and parallel contraction of a GHZ circuit using various algorithms such as Girvan–Newman and FlowCutter.\n",
    "\n",
    "---\n",
    "\n"
   ]
  },
  {
   "cell_type": "markdown",
   "id": "1c2a6516-120c-4af4-aadd-74eec24fb04e",
   "metadata": {},
   "source": [
    "## Step 0: Loading software"
   ]
  },
  {
   "cell_type": "markdown",
   "id": "b48b1121-2e64-4a5f-acd1-cc63acc64bad",
   "metadata": {
    "tags": []
   },
   "source": [
    " First of all, we create a new project to load all the neccesary software"
   ]
  },
  {
   "cell_type": "code",
   "execution_count": 1,
   "id": "c9139643-61d6-4fda-97cc-2d437f117eec",
   "metadata": {
    "tags": []
   },
   "outputs": [
    {
     "name": "stderr",
     "output_type": "stream",
     "text": [
      "\u001b[32m\u001b[1m  Activating\u001b[22m\u001b[39m project at `C:\\Users\\Usuario\\OneDrive\\Escriptori\\anaconda_blogs\\agost_2023\\Novembre_desembre_2024\\GitHub_resum_article_Costa_Ballena\\New_Project_on_QXTools`\n"
     ]
    }
   ],
   "source": [
    "] activate New_Project_on_QXTools;"
   ]
  },
  {
   "cell_type": "code",
   "execution_count": null,
   "id": "11de2394",
   "metadata": {
    "tags": []
   },
   "outputs": [
    {
     "name": "stderr",
     "output_type": "stream",
     "text": [
      "\u001b[32m\u001b[1m   Resolving\u001b[22m\u001b[39m package versions...\n",
      "\u001b[32m\u001b[1m  No Changes\u001b[22m\u001b[39m to `C:\\Users\\Usuario\\OneDrive\\Escriptori\\anaconda_blogs\\agost_2023\\Novembre_desembre_2024\\GitHub_resum_article_Costa_Ballena\\New_Project_on_QXTools\\Project.toml`\n",
      "\u001b[32m\u001b[1m  No Changes\u001b[22m\u001b[39m to `C:\\Users\\Usuario\\OneDrive\\Escriptori\\anaconda_blogs\\agost_2023\\Novembre_desembre_2024\\GitHub_resum_article_Costa_Ballena\\New_Project_on_QXTools\\Manifest.toml`\n"
     ]
    }
   ],
   "source": [
    "import Pkg; \n",
    "Pkg.add(\"QXTools\")\n",
    "Pkg.add(\"QXGraphDecompositions\")\n",
    "Pkg.add(\"QXZoo\")\n",
    "Pkg.add(\"DataStructures\")\n",
    "Pkg.add(\"QXTns\")\n",
    "Pkg.add(\"NDTensors\")\n",
    "Pkg.add(\"ITensors\")\n",
    "Pkg.add(\"LightGraphs\")\n",
    "Pkg.add(\"PyCall\")\n",
    "\n",
    "\n"
   ]
  },
  {
   "cell_type": "code",
   "execution_count": 2,
   "id": "9dd7f933-304e-465b-a810-e5d092e8a197",
   "metadata": {
    "tags": []
   },
   "outputs": [
    {
     "name": "stderr",
     "output_type": "stream",
     "text": [
      "WARNING: method definition for asarray at C:\\Users\\Usuario\\.julia\\packages\\OMEinsum\\0C2IK\\src\\cueinsum.jl:8 declares type variable T but does not use it.\n",
      "WARNING: method definition for expanddims! at C:\\Users\\Usuario\\.julia\\packages\\OMEinsum\\0C2IK\\src\\cueinsum.jl:67 declares type variable LT but does not use it.\n",
      "\u001b[36m\u001b[1m[ \u001b[22m\u001b[39m\u001b[36m\u001b[1mInfo: \u001b[22m\u001b[39mOMEinsum loaded the CUDA module successfully\n"
     ]
    }
   ],
   "source": [
    "using QXTools\n",
    "using QXTns\n",
    "using QXZoo\n",
    "using PyCall\n",
    "using QXGraphDecompositions\n",
    "using LightGraphs\n",
    "using DataStructures\n",
    "using TimerOutputs\n",
    "using ITensors\n",
    "using LinearAlgebra\n",
    "using NDTensors\n"
   ]
  },
  {
   "cell_type": "code",
   "execution_count": 3,
   "id": "ce4a84e9-c95e-41b6-a1fb-1c7ac55fa224",
   "metadata": {
    "tags": []
   },
   "outputs": [],
   "source": [
    "# Load custom functions\n",
    "include(\"../src/funcions_article.jl\");"
   ]
  },
  {
   "cell_type": "markdown",
   "id": "079a721e-af4f-4905-81d8-81b4932352fc",
   "metadata": {},
   "source": [
    "## Step 1: Create a GHZ Circuit\n",
    "We begin by creating a GHZ circuit based on the user-defined number of qubits."
   ]
  },
  {
   "cell_type": "code",
   "execution_count": 4,
   "id": "1e145969-4665-4523-b9e2-c2b4ed6fd633",
   "metadata": {
    "tags": []
   },
   "outputs": [
    {
     "name": "stderr",
     "output_type": "stream",
     "text": [
      "\u001b[36m\u001b[1m┌ \u001b[22m\u001b[39m\u001b[36m\u001b[1mInfo: \u001b[22m\u001b[39mHow many qubits do you want for the GHZ circuit(n)?\n",
      "\u001b[36m\u001b[1m└ \u001b[22m\u001b[39m\n"
     ]
    },
    {
     "name": "stdin",
     "output_type": "stream",
     "text": [
      "stdin>  999\n"
     ]
    },
    {
     "name": "stderr",
     "output_type": "stream",
     "text": [
      "\u001b[36m\u001b[1m┌ \u001b[22m\u001b[39m\u001b[36m\u001b[1mInfo: \u001b[22m\u001b[39m circuit GHZ with  999 qubits created\n",
      "\u001b[36m\u001b[1m└ \u001b[22m\u001b[39m\n"
     ]
    },
    {
     "data": {
      "text/plain": [
       "TensorNetworkCircuit(qubits => 999, gates => 3995)"
      ]
     },
     "execution_count": 4,
     "metadata": {},
     "output_type": "execute_result"
    }
   ],
   "source": [
    " # --- Step 1: GHZ Creation ---\n",
    "@info(\"How many qubits do you want for the GHZ circuit(n)?\\n\\n\")\n",
    "       \n",
    "              N = readline() \n",
    "              n = parse(Int, N)\n",
    "       \n",
    "     \n",
    "        # Create GHZ circuit\n",
    "       cct = create_ghz_circuit(n)\n",
    "\n",
    "       @info(\" circuit GHZ with  $(n) qubits created\\n\\n\")\n",
    "\n",
    " tnc = convert_to_tnc(cct)  # Convert the GHZ circuit into a tensor network circuit"
   ]
  },
  {
   "cell_type": "markdown",
   "id": "2f5bd173",
   "metadata": {},
   "source": [
    "---\n",
    "\n",
    "## Step 2: Sequential Contraction Using Girvan-Newman\n",
    "We perform sequential contraction of the tensor network using the Girvan–Newman algorithm to get a contraction order."
   ]
  },
  {
   "cell_type": "code",
   "execution_count": 5,
   "id": "66bb4f77",
   "metadata": {
    "tags": []
   },
   "outputs": [
    {
     "name": "stdout",
     "output_type": "stream",
     "text": [
      "\u001b[0m\u001b[1m────────────────────────────────────────────────────────────────────────────────\u001b[22m\n",
      "\u001b[0m\u001b[1m                              \u001b[22m         Time                    Allocations      \n",
      "                              ───────────────────────   ────────────────────────\n",
      "      Tot / % measured:            46.0s /  98.8%           1.70GiB /  98.9%    \n",
      "\n",
      "Section               ncalls     time    %tot     avg     alloc    %tot      avg\n",
      "────────────────────────────────────────────────────────────────────────────────\n",
      "2T. Getting GN plan        1    27.9s   61.4%   27.9s    401MiB   23.3%   401MiB\n",
      "3T. Final contraction      1    17.0s   37.5%   17.0s   1.24GiB   73.6%  1.24GiB\n",
      "1T. Obtaining a li...      1    499ms    1.1%   499ms   52.5MiB    3.1%  52.5MiB\n",
      "\u001b[0m\u001b[1m────────────────────────────────────────────────────────────────────────────────\u001b[22m\n",
      "Sequential contraction result: fill(0.7071067811862335 + 0.0im)\n"
     ]
    }
   ],
   "source": [
    "# --- Step 2: Sequential Contraction using Girvan-Newman ---\n",
    "s1 = Calcul_GN_Sequencial(cct, true)  # Perform sequential contraction\n",
    "println(\"Sequential contraction result: \", s1)"
   ]
  },
  {
   "cell_type": "markdown",
   "id": "c3c3ebec",
   "metadata": {},
   "source": [
    "---\n",
    "\n",
    "## Step 3: Compare Results Using Another Contraction Plan\n",
    "Here, we utilize FlowCutter to generate an alternative contraction plan and compare results."
   ]
  },
  {
   "cell_type": "code",
   "execution_count": 9,
   "id": "18de83c4",
   "metadata": {
    "tags": []
   },
   "outputs": [
    {
     "name": "stdout",
     "output_type": "stream",
     "text": [
      "QXTools.single_amplitude(tnc, plan, eixida) = 0.7071067811862398 + 0.0im\n",
      "QXTools.single_amplitude(tnc, plan, eixida) = 0.7071067811862679 + 0.0im\n",
      "QXTools.single_amplitude(tnc, plan, eixida) = 0.0 + 0.0im\n",
      "Contraction result using FlowCutter plan: fill(0.7071067811862398 + 0.0im)\n",
      "Do the results match? true\n"
     ]
    }
   ],
   "source": [
    "# --- Step 3: Compare with Another Plan ---\n",
    "using QXTools\n",
    "using QXTools.Circuits\n",
    "\n",
    " tnc = convert_to_tnc(cct)  # Convert the GHZ circuit into a tensor network circuit\n",
    "\n",
    "# Find a good contraction plan using FlowCutter\n",
    "plan = flow_cutter_contraction_plan(tnc; time=10)\n",
    "\n",
    "num_qubits = cct.num_qubits\n",
    "\n",
    "# Output states\n",
    "outputs = [\"0\" ^ num_qubits, \"1\" ^ num_qubits, \"1\" ^ (num_qubits - 2) * \"01\"]\n",
    "eixida = outputs[1]  # Select the first output as the target\n",
    "\n",
    "# Evaluate the probability amplitude for different outputs\n",
    "\n",
    "@show QXTools.single_amplitude(tnc, plan, eixida)\n",
    "eixida = outputs[2]  # Select the second output\n",
    "@show QXTools.single_amplitude(tnc, plan, eixida)\n",
    "eixida = outputs[3]  # Select the third output\n",
    "@show QXTools.single_amplitude(tnc, plan, eixida)\n",
    "\n",
    "# Perform tensor network contraction using the plan\n",
    "s = contract_tn!(tnc.tn, plan)\n",
    "println(\"Contraction result using FlowCutter plan: \", s)\n",
    "\n",
    "# Compare results\n",
    "println(\"Do the results match? \", s1 ≈ s)"
   ]
  },
  {
   "cell_type": "markdown",
   "id": "36777726",
   "metadata": {},
   "source": [
    "---\n",
    "\n",
    "## Step 4: Parallel Contraction Using ComPar\n",
    "Finally, we use ComPar algorithms for parallel contraction."
   ]
  },
  {
   "cell_type": "code",
   "execution_count": 10,
   "id": "151df3f2",
   "metadata": {
    "tags": []
   },
   "outputs": [
    {
     "name": "stdout",
     "output_type": "stream",
     "text": [
      "Using 8 communities for contraction.\n"
     ]
    }
   ],
   "source": [
    "# --- Step 4: Parallel Contraction using ComPar ---\n",
    "# Define input and output states\n",
    "num_qubits = cct.num_qubits\n",
    "entrada = \"0\" ^ num_qubits\n",
    "\n",
    "# Output states\n",
    "outputs = [\"0\" ^ num_qubits, \"1\" ^ num_qubits, \"1\" ^ (num_qubits - 2) * \"01\"]\n",
    "eixida = outputs[1]  # Select the first output as the target\n",
    "\n",
    "n_com = 8  # Number of communities for the contraction\n",
    "println(\"Using $n_com communities for contraction.\")\n",
    "\n"
   ]
  },
  {
   "cell_type": "code",
   "execution_count": 11,
   "id": "8b62f947-5cd9-4789-a8ff-c3323cea3256",
   "metadata": {
    "tags": []
   },
   "outputs": [
    {
     "name": "stdout",
     "output_type": "stream",
     "text": [
      "\u001b[0m\u001b[1m────────────────────────────────────────────────────────────────────────────────\u001b[22m\n",
      "\u001b[0m\u001b[1m                              \u001b[22m         Time                    Allocations      \n",
      "                              ───────────────────────   ────────────────────────\n",
      "      Tot / % measured:            83.5s / 100.0%            525MiB / 100.0%    \n",
      "\n",
      "Section               ncalls     time    %tot     avg     alloc    %tot      avg\n",
      "────────────────────────────────────────────────────────────────────────────────\n",
      "1T.Obtaining Commu...      1    77.5s   92.8%   77.5s   63.5MiB   12.1%  63.5MiB\n",
      "2T.Parallel contra...      1    6.02s    7.2%   6.02s    461MiB   87.8%   461MiB\n",
      "3T.Final Contraction       1   15.2ms    0.0%  15.2ms    376KiB    0.1%   376KiB\n",
      "\u001b[0m\u001b[1m────────────────────────────────────────────────────────────────────────────────\u001b[22m\n",
      "Contraction result using ComParCPU: fill(0.7071067811862398 + 0.0im)\n"
     ]
    }
   ],
   "source": [
    "# Perform contraction using ComParCPU\n",
    "s2 = ComParCPU(cct, entrada, eixida, n_com; timings=true, decompose=true)\n",
    "println(\"Contraction result using ComParCPU: \", s)"
   ]
  },
  {
   "cell_type": "code",
   "execution_count": 12,
   "id": "d0402d5c-e673-4d80-b121-a5379fdf7dc6",
   "metadata": {
    "tags": []
   },
   "outputs": [
    {
     "name": "stdout",
     "output_type": "stream",
     "text": [
      "\u001b[0m\u001b[1m────────────────────────────────────────────────────────────────────────────────\u001b[22m\n",
      "\u001b[0m\u001b[1m                              \u001b[22m         Time                    Allocations      \n",
      "                              ───────────────────────   ────────────────────────\n",
      "      Tot / % measured:            82.1s / 100.0%            497MiB / 100.0%    \n",
      "\n",
      "Section               ncalls     time    %tot     avg     alloc    %tot      avg\n",
      "────────────────────────────────────────────────────────────────────────────────\n",
      "1T.Obtaining Commu...      1    77.9s   94.9%   77.9s   46.3MiB    9.3%  46.3MiB\n",
      "2T.Parallel contra...      1    4.08s    5.0%   4.08s    449MiB   90.5%   449MiB\n",
      "3T.Final contracti...      1    108ms    0.1%   108ms   1.01MiB    0.2%  1.01MiB\n",
      "\u001b[0m\u001b[1m────────────────────────────────────────────────────────────────────────────────\u001b[22m\n",
      "Contraction result using ComParCPU_para: fill(0.7071067811862335 + 0.0im)\n"
     ]
    }
   ],
   "source": [
    "# Perform contraction using ComParCPU_para\n",
    "s_para = ComParCPU_para(cct, entrada, eixida, n_com; timings=true, decompose=true)\n",
    "println(\"Contraction result using ComParCPU_para: \", s_para)"
   ]
  },
  {
   "cell_type": "code",
   "execution_count": 13,
   "id": "b23df227-3741-48d8-9023-a641482544cc",
   "metadata": {
    "tags": []
   },
   "outputs": [
    {
     "name": "stdout",
     "output_type": "stream",
     "text": [
      "Do all the results match? true\n"
     ]
    }
   ],
   "source": [
    "# Compare results\n",
    "println(\"Do all the results match? \", s1 ≈ s≈ s2 ≈ s_para)"
   ]
  },
  {
   "cell_type": "markdown",
   "id": "c490536e-501b-4b12-850c-6c7a4229e887",
   "metadata": {
    "tags": []
   },
   "source": [
    "## Step 5: Improving contractions using a diferent algorithm for obtainig communities"
   ]
  },
  {
   "cell_type": "markdown",
   "id": "651936f0-a153-4b5f-b322-42590e8a3fa5",
   "metadata": {},
   "source": [
    "In these functions we use a Fast Greedy algorithm for getting communities faster. "
   ]
  },
  {
   "cell_type": "code",
   "execution_count": 14,
   "id": "89cfbfd0-9e14-48eb-8608-2f26ca7813dd",
   "metadata": {
    "tags": []
   },
   "outputs": [
    {
     "name": "stdout",
     "output_type": "stream",
     "text": [
      "\u001b[0m\u001b[1m────────────────────────────────────────────────────────────────────────────────\u001b[22m\n",
      "\u001b[0m\u001b[1m                              \u001b[22m         Time                    Allocations      \n",
      "                              ───────────────────────   ────────────────────────\n",
      "      Tot / % measured:            1.89s / 100.0%            472MiB / 100.0%    \n",
      "\n",
      "Section               ncalls     time    %tot     avg     alloc    %tot      avg\n",
      "────────────────────────────────────────────────────────────────────────────────\n",
      "2T.Parallel contra...      1    1.52s   80.4%   1.52s    421MiB   89.2%   421MiB\n",
      "1T.Obtaining Commu...      1    344ms   18.2%   344ms   46.4MiB    9.8%  46.4MiB\n",
      "3T.Final contraction       1   25.6ms    1.4%  25.6ms   4.53MiB    1.0%  4.53MiB\n",
      "\u001b[0m\u001b[1m────────────────────────────────────────────────────────────────────────────────\u001b[22m\n"
     ]
    },
    {
     "data": {
      "text/plain": [
       "0-dimensional Array{ComplexF64, 0}:\n",
       "0.7071067811862488 + 0.0im"
      ]
     },
     "execution_count": 14,
     "metadata": {},
     "output_type": "execute_result"
    }
   ],
   "source": [
    "sol_fast = ComParCPU_GHZ(cct,entrada,eixida;timings=true,decompose=true)"
   ]
  },
  {
   "cell_type": "code",
   "execution_count": 15,
   "id": "6501e21d-e112-466d-9042-acebaaa2c101",
   "metadata": {
    "tags": []
   },
   "outputs": [
    {
     "name": "stdout",
     "output_type": "stream",
     "text": [
      "\u001b[0m\u001b[1m────────────────────────────────────────────────────────────────────────────────\u001b[22m\n",
      "\u001b[0m\u001b[1m                              \u001b[22m         Time                    Allocations      \n",
      "                              ───────────────────────   ────────────────────────\n",
      "      Tot / % measured:            2.43s / 100.0%            472MiB / 100.0%    \n",
      "\n",
      "Section               ncalls     time    %tot     avg     alloc    %tot      avg\n",
      "────────────────────────────────────────────────────────────────────────────────\n",
      "2T.Parallel contra...      1    2.02s   83.1%   2.02s    421MiB   89.2%   421MiB\n",
      "1T.Obtaining Commu...      1    371ms   15.3%   371ms   46.4MiB    9.8%  46.4MiB\n",
      "3T.Final contracti...      1   39.8ms    1.6%  39.8ms   4.54MiB    1.0%  4.54MiB\n",
      "\u001b[0m\u001b[1m────────────────────────────────────────────────────────────────────────────────\u001b[22m\n"
     ]
    },
    {
     "data": {
      "text/plain": [
       "0-dimensional Array{ComplexF64, 0}:\n",
       "0.7071067811862488 + 0.0im"
      ]
     },
     "execution_count": 15,
     "metadata": {},
     "output_type": "execute_result"
    }
   ],
   "source": [
    "sol_para = ComParCPU_para_GHZ(cct,entrada,eixida;timings=true,decompose=true)"
   ]
  },
  {
   "cell_type": "code",
   "execution_count": 16,
   "id": "49e0f0b1-c300-4518-8437-e4587813520b",
   "metadata": {
    "tags": []
   },
   "outputs": [
    {
     "name": "stdout",
     "output_type": "stream",
     "text": [
      "Do all the results match? true\n"
     ]
    }
   ],
   "source": [
    "# Compare results\n",
    "println(\"Do all the results match? \", s1 ≈ s≈ s2 ≈ s_para≈ sol_fast≈ sol_para)"
   ]
  },
  {
   "cell_type": "markdown",
   "id": "87553cee",
   "metadata": {},
   "source": [
    "---\n",
    "\n",
    "### Summary\n",
    "This notebook demonstrated:\n",
    "1. The creation of a GHZ tensor network.\n",
    "2. Sequential contraction using the Girvan–Newman algorithm.\n",
    "3. Alternative contraction using FlowCutter.\n",
    "4. Parallel contraction with ComParCPU and ComParCPU_para.\n",
    "5. Using a new algorithm for generating communities can improve contraction time.\n",
    "\n",
    "Thank you for exploring tensor network contraction with us!"
   ]
  },
  {
   "cell_type": "code",
   "execution_count": null,
   "id": "232e42e0-d307-4e89-8bab-95b4cd1756a0",
   "metadata": {},
   "outputs": [],
   "source": []
  }
 ],
 "metadata": {
  "kernelspec": {
   "display_name": "Julia 12 Threads 1.9.2",
   "language": "julia",
   "name": "julia-12-threads-1.9"
  },
  "language_info": {
   "file_extension": ".jl",
   "mimetype": "application/julia",
   "name": "julia",
   "version": "1.9.2"
  }
 },
 "nbformat": 4,
 "nbformat_minor": 5
}
